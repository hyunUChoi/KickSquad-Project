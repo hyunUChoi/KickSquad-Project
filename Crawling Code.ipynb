{
 "cells": [
  {
   "cell_type": "code",
   "execution_count": 3,
   "metadata": {
    "collapsed": true
   },
   "outputs": [
    {
     "name": "stdout",
     "output_type": "stream",
     "text": [
      "Collecting selenium\n",
      "  Downloading selenium-4.3.0-py3-none-any.whl (981 kB)\n",
      "     -------------------------------------- 981.4/981.4 kB 8.9 MB/s eta 0:00:00\n",
      "Collecting trio~=0.17\n",
      "  Downloading trio-0.21.0-py3-none-any.whl (358 kB)\n",
      "     ------------------------------------- 359.0/359.0 kB 11.3 MB/s eta 0:00:00\n",
      "Collecting trio-websocket~=0.9\n",
      "  Using cached trio_websocket-0.9.2-py3-none-any.whl (16 kB)\n",
      "Collecting urllib3[secure,socks]~=1.26\n",
      "  Using cached urllib3-1.26.11-py2.py3-none-any.whl (139 kB)\n",
      "Collecting idna\n",
      "  Using cached idna-3.3-py3-none-any.whl (61 kB)\n",
      "Collecting sortedcontainers\n",
      "  Downloading sortedcontainers-2.4.0-py2.py3-none-any.whl (29 kB)\n",
      "Collecting async-generator>=1.9\n",
      "  Downloading async_generator-1.10-py3-none-any.whl (18 kB)\n",
      "Requirement already satisfied: cffi>=1.14 in c:\\programdata\\anaconda3\\envs\\dl\\lib\\site-packages (from trio~=0.17->selenium) (1.15.0)\n",
      "Collecting sniffio\n",
      "  Downloading sniffio-1.2.0-py3-none-any.whl (10 kB)\n",
      "Requirement already satisfied: attrs>=19.2.0 in c:\\programdata\\anaconda3\\envs\\dl\\lib\\site-packages (from trio~=0.17->selenium) (21.4.0)\n",
      "Collecting outcome\n",
      "  Downloading outcome-1.2.0-py2.py3-none-any.whl (9.7 kB)\n",
      "Collecting wsproto>=0.14\n",
      "  Using cached wsproto-1.1.0-py3-none-any.whl (24 kB)\n",
      "Collecting pyOpenSSL>=0.14\n",
      "  Downloading pyOpenSSL-22.0.0-py2.py3-none-any.whl (55 kB)\n",
      "     ---------------------------------------- 55.8/55.8 kB 1.5 MB/s eta 0:00:00\n",
      "Requirement already satisfied: certifi in c:\\programdata\\anaconda3\\envs\\dl\\lib\\site-packages (from urllib3[secure,socks]~=1.26->selenium) (2022.6.15)\n",
      "Collecting cryptography>=1.3.4\n",
      "  Downloading cryptography-37.0.4-cp36-abi3-win_amd64.whl (2.4 MB)\n",
      "     ---------------------------------------- 2.4/2.4 MB 11.0 MB/s eta 0:00:00\n",
      "Collecting PySocks!=1.5.7,<2.0,>=1.5.6\n",
      "  Downloading PySocks-1.7.1-py3-none-any.whl (16 kB)\n",
      "Requirement already satisfied: pycparser in c:\\programdata\\anaconda3\\envs\\dl\\lib\\site-packages (from cffi>=1.14->trio~=0.17->selenium) (2.21)\n",
      "Collecting h11<1,>=0.9.0\n",
      "  Using cached h11-0.13.0-py3-none-any.whl (58 kB)\n",
      "Requirement already satisfied: typing-extensions in c:\\programdata\\anaconda3\\envs\\dl\\lib\\site-packages (from h11<1,>=0.9.0->wsproto>=0.14->trio-websocket~=0.9->selenium) (4.1.1)\n",
      "Installing collected packages: sortedcontainers, urllib3, sniffio, PySocks, outcome, idna, h11, async-generator, wsproto, trio, cryptography, trio-websocket, pyOpenSSL, selenium\n",
      "Successfully installed PySocks-1.7.1 async-generator-1.10 cryptography-37.0.4 h11-0.13.0 idna-3.3 outcome-1.2.0 pyOpenSSL-22.0.0 selenium-4.3.0 sniffio-1.2.0 sortedcontainers-2.4.0 trio-0.21.0 trio-websocket-0.9.2 urllib3-1.26.11 wsproto-1.1.0\n"
     ]
    }
   ],
   "source": [
    "!pip install selenium"
   ]
  },
  {
   "cell_type": "code",
   "execution_count": 6,
   "metadata": {},
   "outputs": [
    {
     "name": "stdout",
     "output_type": "stream",
     "text": [
      "Collecting tqdm\n",
      "  Using cached tqdm-4.64.0-py2.py3-none-any.whl (78 kB)\n",
      "Requirement already satisfied: colorama in c:\\programdata\\anaconda3\\envs\\dl\\lib\\site-packages (from tqdm) (0.4.5)\n",
      "Installing collected packages: tqdm\n",
      "Successfully installed tqdm-4.64.0\n"
     ]
    }
   ],
   "source": [
    "!pip install tqdm"
   ]
  },
  {
   "cell_type": "code",
   "execution_count": 1,
   "metadata": {
    "id": "uOMKjBqr3ClP"
   },
   "outputs": [],
   "source": [
    "from selenium import webdriver as wb # 브라우저를 조작하는 도구\n",
    "from selenium.webdriver.common.keys import Keys # 키 입력을 도와주는 도구(키보드)\n",
    "from bs4 import BeautifulSoup as bs # 문서를 파싱해서 선택자 활용을 도와주는 도구\n",
    "from tqdm import tqdm # 반복문 진행 정도를 시각화해주는 도구\n",
    "from urllib.request import urlretrieve # 이미지 다운로드를 도와주는 도구\n",
    "import time # 시간제어 도구\n",
    "import os # 폴더 생성,삭제,이동 등을 도와주는 도구"
   ]
  },
  {
   "cell_type": "code",
   "execution_count": 2,
   "metadata": {
    "id": "Bds40KZtOMod"
   },
   "outputs": [],
   "source": [
    "keyword = \"escooter\""
   ]
  },
  {
   "cell_type": "code",
   "execution_count": 3,
   "metadata": {
    "id": "_nB1Eunx3ClR"
   },
   "outputs": [],
   "source": [
    "# 이미지가 저장될 폴더 생성\n",
    "# 해당 폴더가 있는지 확인\n",
    "if os.path.isdir('./{}'.format(keyword)) == False :\n",
    "    os.mkdir('./{}'.format(keyword)) # 폴더 생성"
   ]
  },
  {
   "cell_type": "code",
   "execution_count": null,
   "metadata": {
    "id": "5r62pE-I3ClR",
    "outputId": "802faf85-33a0-4fcb-ebd1-76fa01ec45f3"
   },
   "outputs": [
    {
     "name": "stderr",
     "output_type": "stream",
     "text": [
      "100%|██████████████████████████████████████████████████████████████████████████████████| 48/48 [00:04<00:00,  9.69it/s]\n",
      "100%|████████████████████████████████████████████████████████████████████████████████| 352/352 [00:56<00:00,  6.18it/s]\n",
      "100%|████████████████████████████████████████████████████████████████████████████████| 342/342 [01:05<00:00,  5.21it/s]\n",
      "0it [00:00, ?it/s]\n",
      "0it [00:00, ?it/s]\n",
      "0it [00:00, ?it/s]\n",
      "0it [00:00, ?it/s]\n"
     ]
    }
   ],
   "source": [
    "url = 'https://www.google.com/search?q={}&tbm=isch&hl=ko&chips=q:e+roller,online_chips:e+scooter:Okaed8pmyp8%3D&sa=X&ved=2ahUKEwjKvPrgkqz5AhVdRvUHHb26BP8Q4lYoBXoECAEQKw&biw=1903&bih=937'.format(keyword)\n",
    "\n",
    "driver = wb.Chrome() # 브라우져 생성\n",
    "driver.get(url) # url 요청\n",
    "time.sleep(5) # 페이지 로딩까지 5초 대기\n",
    "\n",
    "cnt = 0\n",
    "pre_img_src = [] # 이전에 다운로드된 경로\n",
    "\n",
    "for j in range(10) :\n",
    "    img_html = bs(driver.page_source,'html.parser')\n",
    "\n",
    "    # 이미지 태그 수집\n",
    "    images = img_html.select('img.rg_i.Q4LuWd')\n",
    "\n",
    "    # 이미지 태그의 src 속성 값 추출\n",
    "    img_src = []\n",
    "    for img in images :\n",
    "        src = img.get('src')\n",
    "        if src != None : # img 태그에 src 속성이 없는 경우\n",
    "            if src not in pre_img_src : # 이전에 다운로드한 경로에 있는지 검사\n",
    "                img_src.append(src)\n",
    "        else : # img 태그에 src 속성이 있는 경우\n",
    "            src = img.get('data-src')\n",
    "            if src not in pre_img_src :\n",
    "                img_src.append(src)\n",
    "\n",
    "    # 파일 다운로드\n",
    "    # img_src를 반복문으로 돌면서 저장, tqdm 사용\n",
    "    for src in tqdm(img_src) :\n",
    "        cnt += 1\n",
    "        try :\n",
    "            urlretrieve(src,'./{}/{}.png'.format(keyword,cnt))\n",
    "        except :\n",
    "            print(\"수집불가\")\n",
    "            continue\n",
    "\n",
    "    pre_img_src += img_src # 다운로드한 경로를 이전 리스트에 추가    \n",
    "        \n",
    "    # 화면 스크롤\n",
    "    for i in range(6):\n",
    "        driver.execute_script(\"window.scrollTo(0, document.body.scrollHeight);\")\n",
    "#         driver.find_element_by_css_selector('body').send_keys(Keys.PAGE_DOWN)\n",
    "        time.sleep(1)"
   ]
  },
  {
   "cell_type": "code",
   "execution_count": null,
   "metadata": {},
   "outputs": [],
   "source": []
  }
 ],
 "metadata": {
  "colab": {
   "collapsed_sections": [],
   "name": "ex04_구글 이미지 수집하기 with selenium.ipynb",
   "provenance": []
  },
  "kernelspec": {
   "display_name": "Python 3 (ipykernel)",
   "language": "python",
   "name": "python3"
  },
  "language_info": {
   "codemirror_mode": {
    "name": "ipython",
    "version": 3
   },
   "file_extension": ".py",
   "mimetype": "text/x-python",
   "name": "python",
   "nbconvert_exporter": "python",
   "pygments_lexer": "ipython3",
   "version": "3.7.13"
  }
 },
 "nbformat": 4,
 "nbformat_minor": 1
}
